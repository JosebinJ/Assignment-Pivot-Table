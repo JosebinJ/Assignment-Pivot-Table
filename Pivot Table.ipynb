{
 "cells": [
  {
   "cell_type": "code",
   "execution_count": 1,
   "id": "e6e4020e",
   "metadata": {},
   "outputs": [],
   "source": [
    "import pandas as pd\n",
    "import numpy as np\n",
    "import matplotlib.pyplot as plt\n",
    "plt.style.use('ggplot')"
   ]
  },
  {
   "cell_type": "code",
   "execution_count": 5,
   "id": "ead84a3d",
   "metadata": {},
   "outputs": [
    {
     "name": "stdout",
     "output_type": "stream",
     "text": [
      "   PassengerId  Survived  Pclass  \\\n",
      "0            1         0       3   \n",
      "1            2         1       1   \n",
      "2            3         1       3   \n",
      "3            4         1       1   \n",
      "4            5         0       3   \n",
      "\n",
      "                                                Name     Sex   Age  SibSp  \\\n",
      "0                            Braund, Mr. Owen Harris    male  22.0      1   \n",
      "1  Cumings, Mrs. John Bradley (Florence Briggs Th...  female  38.0      1   \n",
      "2                             Heikkinen, Miss. Laina  female  26.0      0   \n",
      "3       Futrelle, Mrs. Jacques Heath (Lily May Peel)  female  35.0      1   \n",
      "4                           Allen, Mr. William Henry    male  35.0      0   \n",
      "\n",
      "   Parch            Ticket     Fare Cabin Embarked  \n",
      "0      0         A/5 21171   7.2500   NaN        S  \n",
      "1      0          PC 17599  71.2833   C85        C  \n",
      "2      0  STON/O2. 3101282   7.9250   NaN        S  \n",
      "3      0            113803  53.1000  C123        S  \n",
      "4      0            373450   8.0500   NaN        S  \n"
     ]
    }
   ],
   "source": [
    "dframe=pd.read_csv('train.csv')\n",
    "print(dframe.head())"
   ]
  },
  {
   "cell_type": "code",
   "execution_count": 6,
   "id": "a1fd6fa6",
   "metadata": {},
   "outputs": [],
   "source": [
    "dframe.drop(['PassengerId','Ticket','Name'],inplace=True,axis=1)"
   ]
  },
  {
   "cell_type": "code",
   "execution_count": 7,
   "id": "f2808367",
   "metadata": {},
   "outputs": [
    {
     "name": "stdout",
     "output_type": "stream",
     "text": [
      "              Age       Fare     Parch    Pclass     SibSp  Survived\n",
      "Sex                                                                 \n",
      "female  27.915709  44.479818  0.649682  2.159236  0.694268  0.742038\n",
      "male    30.726645  25.523893  0.235702  2.389948  0.429809  0.188908\n"
     ]
    }
   ],
   "source": [
    "# a single index\n",
    "table=pd.pivot_table(data=dframe,index=['Sex'])\n",
    "print(table)"
   ]
  },
  {
   "cell_type": "code",
   "execution_count": 15,
   "id": "8487d8d3",
   "metadata": {},
   "outputs": [
    {
     "data": {
      "image/png": "[encoded data removed]",
      "text/plain": [
       "<Figure size 432x288 with 1 Axes>"
      ]
     },
     "metadata": {},
     "output_type": "display_data"
    }
   ],
   "source": [
    "table.plot(kind='bar');"
   ]
  },
  {
   "cell_type": "code",
   "execution_count": 11,
   "id": "deba23a9",
   "metadata": {},
   "outputs": [
    {
     "name": "stdout",
     "output_type": "stream",
     "text": [
      "                     Age        Fare     Parch     SibSp  Survived\n",
      "Sex    Pclass                                                     \n",
      "female 1       34.611765  106.125798  0.457447  0.553191  0.968085\n",
      "       2       28.722973   21.970121  0.605263  0.486842  0.921053\n",
      "       3       21.750000   16.118810  0.798611  0.895833  0.500000\n",
      "male   1       41.281386   67.226127  0.278689  0.311475  0.368852\n",
      "       2       30.740707   19.741782  0.222222  0.342593  0.157407\n",
      "       3       26.507589   12.661633  0.224784  0.498559  0.135447\n"
     ]
    }
   ],
   "source": [
    "# multiple indices\n",
    "table2=pd.pivot_table(data=dframe,index=['Sex','Pclass'])\n",
    "print(table2)"
   ]
  },
  {
   "cell_type": "code",
   "execution_count": 12,
   "id": "e8d6c61f",
   "metadata": {},
   "outputs": [
    {
     "data": {
      "text/plain": [
       "<AxesSubplot:xlabel='Sex,Pclass'>"
      ]
     },
     "execution_count": 12,
     "metadata": {},
     "output_type": "execute_result"
    },
    {
     "data": {
      "image/png": "[encoded data removed]",
      "text/plain": [
       "<Figure size 432x288 with 1 Axes>"
      ]
     },
     "metadata": {},
     "output_type": "display_data"
    }
   ],
   "source": [
    "table2.plot(kind='bar');"
   ]
  },
  {
   "cell_type": "code",
   "execution_count": 16,
   "id": "0c7c72f4",
   "metadata": {},
   "outputs": [
    {
     "name": "stdout",
     "output_type": "stream",
     "text": [
      "                     Age  Survived\n",
      "Sex    Pclass                     \n",
      "female 1       34.611765        91\n",
      "       2       28.722973        70\n",
      "       3       21.750000        72\n",
      "male   1       41.281386        45\n",
      "       2       30.740707        17\n",
      "       3       26.507589        47\n"
     ]
    }
   ],
   "source": [
    "table2=pd.pivot_table(dframe,index=['Sex','Pclass'],aggfunc={'Age':np.mean,'Survived':np.sum})\n",
    "print(table2)"
   ]
  },
  {
   "cell_type": "code",
   "execution_count": 17,
   "id": "feeea816",
   "metadata": {},
   "outputs": [
    {
     "name": "stdout",
     "output_type": "stream",
     "text": [
      "               Survived\n",
      "Sex    Pclass          \n",
      "female 1       0.968085\n",
      "       2       0.921053\n",
      "       3       0.500000\n",
      "male   1       0.368852\n",
      "       2       0.157407\n",
      "       3       0.135447\n"
     ]
    }
   ],
   "source": [
    "table2=pd.pivot_table(dframe,index=['Sex','Pclass'],values=['Survived'],aggfunc=np.mean)\n",
    "print(table2)"
   ]
  },
  {
   "cell_type": "code",
   "execution_count": 18,
   "id": "b5df28ff",
   "metadata": {},
   "outputs": [
    {
     "data": {
      "text/plain": [
       "<AxesSubplot:xlabel='Sex,Pclass'>"
      ]
     },
     "execution_count": 18,
     "metadata": {},
     "output_type": "execute_result"
    },
    {
     "data": {
      "image/png": "[encoded data removed]",
      "text/plain": [
       "<Figure size 432x288 with 1 Axes>"
      ]
     },
     "metadata": {},
     "output_type": "display_data"
    }
   ],
   "source": [
    "table2.plot(kind='bar');"
   ]
  },
  {
   "cell_type": "code",
   "execution_count": 19,
   "id": "8064d6ab",
   "metadata": {},
   "outputs": [
    {
     "name": "stdout",
     "output_type": "stream",
     "text": [
      "       Survived        \n",
      "Pclass        1   2   3\n",
      "Sex                    \n",
      "female       91  70  72\n",
      "male         45  17  47\n"
     ]
    }
   ],
   "source": [
    "# columns\n",
    "table2=pd.pivot_table(dframe,index=['Sex'],columns=['Pclass'],values=['Survived'],aggfunc=np.sum)\n",
    "print(table2)"
   ]
  },
  {
   "cell_type": "code",
   "execution_count": 20,
   "id": "8ac545ee",
   "metadata": {},
   "outputs": [
    {
     "data": {
      "image/png": "[encoded data removed]",
      "text/plain": [
       "<Figure size 432x288 with 1 Axes>"
      ]
     },
     "metadata": {},
     "output_type": "display_data"
    }
   ],
   "source": [
    "table2.plot(kind='bar');"
   ]
  },
  {
   "cell_type": "code",
   "execution_count": 23,
   "id": "6d6e8a43",
   "metadata": {},
   "outputs": [
    {
     "name": "stdout",
     "output_type": "stream",
     "text": [
      "                              Age                      \n",
      "Embarked                        C          Q          S\n",
      "Sex    Survived Pclass                                 \n",
      "female 0        1       50.000000        NaN  13.500000\n",
      "                2             NaN        NaN  36.000000\n",
      "                3       20.700000  28.100000  23.688889\n",
      "       1        1       35.675676  33.000000  33.619048\n",
      "                2       19.142857  30.000000  29.091667\n",
      "                3       11.045455  17.600000  22.548387\n",
      "male   0        1       43.050000  44.000000  45.362500\n",
      "                2       29.500000  57.000000  33.414474\n",
      "                3       27.555556  28.076923  27.168478\n",
      "       1        1       36.437500        NaN  36.121667\n",
      "                2        1.000000        NaN  17.095000\n",
      "                3       18.488571  29.000000  22.933333\n"
     ]
    }
   ],
   "source": [
    "# display null values\n",
    "table2=pd.pivot_table(dframe,index=['Sex','Survived','Pclass'],columns=['Embarked'],values=['Age'],aggfunc=np.mean)\n",
    "print(table2)"
   ]
  },
  {
   "cell_type": "code",
   "execution_count": 26,
   "id": "93ca480c",
   "metadata": {},
   "outputs": [
    {
     "name": "stdout",
     "output_type": "stream",
     "text": [
      "                              Age                      \n",
      "Embarked                        C          Q          S\n",
      "Sex    Survived Pclass                                 \n",
      "female 0        1       50.000000  29.699118  13.500000\n",
      "                2       29.699118  29.699118  36.000000\n",
      "                3       20.700000  28.100000  23.688889\n",
      "       1        1       35.675676  33.000000  33.619048\n",
      "                2       19.142857  30.000000  29.091667\n",
      "                3       11.045455  17.600000  22.548387\n",
      "male   0        1       43.050000  44.000000  45.362500\n",
      "                2       29.500000  57.000000  33.414474\n",
      "                3       27.555556  28.076923  27.168478\n",
      "       1        1       36.437500  29.699118  36.121667\n",
      "                2        1.000000  29.699118  17.095000\n",
      "                3       18.488571  29.000000  22.933333\n"
     ]
    }
   ],
   "source": [
    "# handling null values\n",
    "table2=pd.pivot_table(dframe,index=['Sex','Survived','Pclass'],columns=['Embarked'],values=['Age'],aggfunc=np.mean,fill_value=np.mean(dframe['Age']))\n",
    "print(table2)"
   ]
  },
  {
   "cell_type": "code",
   "execution_count": null,
   "id": "be3be948",
   "metadata": {},
   "outputs": [],
   "source": []
  }
 ],
 "metadata": {
  "kernelspec": {
   "display_name": "Python 3",
   "language": "python",
   "name": "python3"
  },
  "language_info": {
   "codemirror_mode": {
    "name": "ipython",
    "version": 3
   },
   "file_extension": ".py",
   "mimetype": "text/x-python",
   "name": "python",
   "nbconvert_exporter": "python",
   "pygments_lexer": "ipython3",
   "version": "3.8.8"
  }
 },
 "nbformat": 4,
 "nbformat_minor": 5
}
